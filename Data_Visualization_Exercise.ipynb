{
  "nbformat": 4,
  "nbformat_minor": 0,
  "metadata": {
    "colab": {
      "name": "Data_Visualization_Exercise.ipynb",
      "provenance": [],
      "collapsed_sections": []
    },
    "kernelspec": {
      "name": "python3",
      "display_name": "Python 3"
    },
    "language_info": {
      "name": "python"
    }
  },
  "cells": [
    {
      "cell_type": "markdown",
      "metadata": {
        "id": "XmqGFqgvIymd"
      },
      "source": [
        "    # Assignment:  \n",
        "    1) Choose a data set from Makeover Monday\n",
        "    2) Download the data that you chose.\n",
        "    3) Use Python to create a visually appealing, informative visualization using the data you selected."
      ]
    },
    {
      "cell_type": "code",
      "metadata": {
        "id": "EyL6s3Zz9IOy"
      },
      "source": [
        "import pandas as pd\n",
        "import matplotlib.pyplot as plt\n",
        "import seaborn as sns"
      ],
      "execution_count": 2,
      "outputs": []
    },
    {
      "cell_type": "markdown",
      "metadata": {
        "id": "8p9NQBqcHCiB"
      },
      "source": [
        "Data is from data.world\n",
        "https://data.world/makeovermonday/2021w3/discuss/2021-w03-submission/gnb57wpr"
      ]
    },
    {
      "cell_type": "code",
      "metadata": {
        "id": "u2zBHlmGhKOs",
        "colab": {
          "base_uri": "https://localhost:8080/",
          "height": 226
        },
        "outputId": "520c38d7-36ba-4f29-fc6e-a403e3c5a078"
      },
      "source": [
        "filename = '/content/drive/MyDrive/Colab Notebooks/Coding Dojo/04 Week 4: Explanatory Viz/Global Temperature Anomalies.csv'\n",
        "df = pd.read_csv(filename)\n",
        "df.head()\n",
        "# Data loaded, dates range from 1880 through 2020\n",
        "# Columns are temp by month, then temp by quarter (e.g., DJF = Dec, Jan, Feb)"
      ],
      "execution_count": 3,
      "outputs": [
        {
          "output_type": "execute_result",
          "data": {
            "text/html": [
              "<div>\n",
              "<style scoped>\n",
              "    .dataframe tbody tr th:only-of-type {\n",
              "        vertical-align: middle;\n",
              "    }\n",
              "\n",
              "    .dataframe tbody tr th {\n",
              "        vertical-align: top;\n",
              "    }\n",
              "\n",
              "    .dataframe thead th {\n",
              "        text-align: right;\n",
              "    }\n",
              "</style>\n",
              "<table border=\"1\" class=\"dataframe\">\n",
              "  <thead>\n",
              "    <tr style=\"text-align: right;\">\n",
              "      <th></th>\n",
              "      <th>Hemisphere</th>\n",
              "      <th>Year</th>\n",
              "      <th>Jan</th>\n",
              "      <th>Feb</th>\n",
              "      <th>Mar</th>\n",
              "      <th>Apr</th>\n",
              "      <th>May</th>\n",
              "      <th>Jun</th>\n",
              "      <th>Jul</th>\n",
              "      <th>Aug</th>\n",
              "      <th>Sep</th>\n",
              "      <th>Oct</th>\n",
              "      <th>Nov</th>\n",
              "      <th>Dec</th>\n",
              "      <th>J-D</th>\n",
              "      <th>D-N</th>\n",
              "      <th>DJF</th>\n",
              "      <th>MAM</th>\n",
              "      <th>JJA</th>\n",
              "      <th>SON</th>\n",
              "    </tr>\n",
              "  </thead>\n",
              "  <tbody>\n",
              "    <tr>\n",
              "      <th>0</th>\n",
              "      <td>Global</td>\n",
              "      <td>1880</td>\n",
              "      <td>-0.17</td>\n",
              "      <td>-0.23</td>\n",
              "      <td>-0.08</td>\n",
              "      <td>-0.15</td>\n",
              "      <td>-0.08</td>\n",
              "      <td>-0.20</td>\n",
              "      <td>-0.17</td>\n",
              "      <td>-0.09</td>\n",
              "      <td>-0.13</td>\n",
              "      <td>-0.22</td>\n",
              "      <td>-0.20</td>\n",
              "      <td>-0.16</td>\n",
              "      <td>-0.16</td>\n",
              "      <td>NaN</td>\n",
              "      <td>NaN</td>\n",
              "      <td>-0.10</td>\n",
              "      <td>-0.15</td>\n",
              "      <td>-0.18</td>\n",
              "    </tr>\n",
              "    <tr>\n",
              "      <th>1</th>\n",
              "      <td>Global</td>\n",
              "      <td>1881</td>\n",
              "      <td>-0.18</td>\n",
              "      <td>-0.13</td>\n",
              "      <td>0.04</td>\n",
              "      <td>0.06</td>\n",
              "      <td>0.08</td>\n",
              "      <td>-0.17</td>\n",
              "      <td>0.02</td>\n",
              "      <td>-0.02</td>\n",
              "      <td>-0.14</td>\n",
              "      <td>-0.20</td>\n",
              "      <td>-0.17</td>\n",
              "      <td>-0.05</td>\n",
              "      <td>-0.07</td>\n",
              "      <td>-0.08</td>\n",
              "      <td>-0.16</td>\n",
              "      <td>0.06</td>\n",
              "      <td>-0.06</td>\n",
              "      <td>-0.17</td>\n",
              "    </tr>\n",
              "    <tr>\n",
              "      <th>2</th>\n",
              "      <td>Global</td>\n",
              "      <td>1882</td>\n",
              "      <td>0.18</td>\n",
              "      <td>0.15</td>\n",
              "      <td>0.06</td>\n",
              "      <td>-0.15</td>\n",
              "      <td>-0.13</td>\n",
              "      <td>-0.21</td>\n",
              "      <td>-0.15</td>\n",
              "      <td>-0.06</td>\n",
              "      <td>-0.13</td>\n",
              "      <td>-0.23</td>\n",
              "      <td>-0.15</td>\n",
              "      <td>-0.34</td>\n",
              "      <td>-0.10</td>\n",
              "      <td>-0.07</td>\n",
              "      <td>0.09</td>\n",
              "      <td>-0.08</td>\n",
              "      <td>-0.14</td>\n",
              "      <td>-0.17</td>\n",
              "    </tr>\n",
              "    <tr>\n",
              "      <th>3</th>\n",
              "      <td>Global</td>\n",
              "      <td>1883</td>\n",
              "      <td>-0.28</td>\n",
              "      <td>-0.36</td>\n",
              "      <td>-0.11</td>\n",
              "      <td>-0.17</td>\n",
              "      <td>-0.16</td>\n",
              "      <td>-0.07</td>\n",
              "      <td>-0.05</td>\n",
              "      <td>-0.12</td>\n",
              "      <td>-0.20</td>\n",
              "      <td>-0.10</td>\n",
              "      <td>-0.22</td>\n",
              "      <td>-0.10</td>\n",
              "      <td>-0.16</td>\n",
              "      <td>-0.18</td>\n",
              "      <td>-0.33</td>\n",
              "      <td>-0.15</td>\n",
              "      <td>-0.08</td>\n",
              "      <td>-0.17</td>\n",
              "    </tr>\n",
              "    <tr>\n",
              "      <th>4</th>\n",
              "      <td>Global</td>\n",
              "      <td>1884</td>\n",
              "      <td>-0.12</td>\n",
              "      <td>-0.07</td>\n",
              "      <td>-0.36</td>\n",
              "      <td>-0.39</td>\n",
              "      <td>-0.33</td>\n",
              "      <td>-0.34</td>\n",
              "      <td>-0.32</td>\n",
              "      <td>-0.27</td>\n",
              "      <td>-0.26</td>\n",
              "      <td>-0.24</td>\n",
              "      <td>-0.32</td>\n",
              "      <td>-0.30</td>\n",
              "      <td>-0.28</td>\n",
              "      <td>-0.26</td>\n",
              "      <td>-0.10</td>\n",
              "      <td>-0.36</td>\n",
              "      <td>-0.31</td>\n",
              "      <td>-0.27</td>\n",
              "    </tr>\n",
              "  </tbody>\n",
              "</table>\n",
              "</div>"
            ],
            "text/plain": [
              "  Hemisphere  Year   Jan   Feb   Mar   Apr  ...   J-D   D-N   DJF   MAM   JJA   SON\n",
              "0     Global  1880 -0.17 -0.23 -0.08 -0.15  ... -0.16   NaN   NaN -0.10 -0.15 -0.18\n",
              "1     Global  1881 -0.18 -0.13  0.04  0.06  ... -0.07 -0.08 -0.16  0.06 -0.06 -0.17\n",
              "2     Global  1882  0.18  0.15  0.06 -0.15  ... -0.10 -0.07  0.09 -0.08 -0.14 -0.17\n",
              "3     Global  1883 -0.28 -0.36 -0.11 -0.17  ... -0.16 -0.18 -0.33 -0.15 -0.08 -0.17\n",
              "4     Global  1884 -0.12 -0.07 -0.36 -0.39  ... -0.28 -0.26 -0.10 -0.36 -0.31 -0.27\n",
              "\n",
              "[5 rows x 20 columns]"
            ]
          },
          "metadata": {},
          "execution_count": 3
        }
      ]
    },
    {
      "cell_type": "code",
      "metadata": {
        "colab": {
          "base_uri": "https://localhost:8080/",
          "height": 300
        },
        "id": "7UZhwQsGBEdX",
        "outputId": "b1c707be-e0b3-49b9-da4a-0f284a251362"
      },
      "source": [
        "plt.bar(df['Year'], df['J-D']);\n",
        "\n",
        "plt.xlabel('Year', fontsize = 12)\n",
        "plt.ylabel('Temp (F) vs 1880 - 1910 Average', fontsize = 12)\n",
        "plt.title('The Earth Has Warmed 1.4 Degrees Fahrenheit Since 1880', fontsize = 15);"
      ],
      "execution_count": 11,
      "outputs": [
        {
          "output_type": "display_data",
          "data": {
            "image/png": "[encoded data removed]",
            "text/plain": [
              "<Figure size 432x288 with 1 Axes>"
            ]
          },
          "metadata": {
            "needs_background": "light"
          }
        }
      ]
    },
    {
      "cell_type": "code",
      "metadata": {
        "id": "f7XF5aYCJzWf"
      },
      "source": [
        ""
      ],
      "execution_count": null,
      "outputs": []
    }
  ]
}